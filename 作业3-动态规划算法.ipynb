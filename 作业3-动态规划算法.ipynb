{
 "cells": [
  {
   "cell_type": "code",
   "execution_count": 1,
   "metadata": {},
   "outputs": [],
   "source": [
    "import numpy as np\n",
    "import matplotlib.pyplot as plt\n",
    "import seaborn as sns"
   ]
  },
  {
   "cell_type": "code",
   "execution_count": 2,
   "metadata": {},
   "outputs": [
    {
     "data": {
      "text/plain": [
       "array([[         0,          0,          0,          0,         -1,\n",
       "                -1,         -1,         -1,         -1,          0,\n",
       "                -1, -100000000],\n",
       "       [-100000000,         -1,          0,          0,          0,\n",
       "                 0,         -1, -100000000,         -1,          0,\n",
       "                 0,          0],\n",
       "       [         0,          0,         -1,         -1,          0,\n",
       "                 0,          0,         -1,         -1,         -1,\n",
       "                 0,          0],\n",
       "       [        -1,          0,          0,          0,          0,\n",
       "                 0,          0, -100000000,         -1,          0,\n",
       "                -1,         10]])"
      ]
     },
     "metadata": {},
     "output_type": "display_data"
    },
    {
     "data": {
      "image/png": "[encoded data removed]",
      "text/plain": [
       "<Figure size 800x200 with 2 Axes>"
      ]
     },
     "metadata": {},
     "output_type": "display_data"
    }
   ],
   "source": [
    "# 创建地图（包括低优先级区，无陷阱）\n",
    "def init_map(x, y):\n",
    "    ans = np.random.randint(0, 8, (x, y))//5*-1\n",
    "    ans[x-1][y-1] = 10\n",
    "    return ans\n",
    "\n",
    "\n",
    "m = init_map(4, 12)\n",
    "\n",
    "# 添加陷阱\n",
    "def init_hole(m, num):\n",
    "    for i in range(num):\n",
    "        x = np.random.randint(0, m.shape[0])\n",
    "        y = np.random.randint(0, m.shape[1])\n",
    "        if x+y == 0 or x+y == m.shape[0]+m.shape[1]-2:\n",
    "            continue\n",
    "        m[x][y] = -1e8\n",
    "    return m\n",
    "\n",
    "\n",
    "m = init_hole(m, 5)\n",
    "display(m)\n",
    "\n",
    "# 绘图\n",
    "mask = np.zeros(m.shape)\n",
    "mask[np.where(m == -1e8)] = 1\n",
    "\n",
    "dm = m.copy()\n",
    "dm[np.where(m == 10)] = 6\n",
    "dm[np.where(m == 0)] = 4\n",
    "dm[np.where(m == -1)] = 2\n",
    "dm[np.where(m == -1e8)] = 0\n",
    "plt.figure(figsize=(8, 2))\n",
    "sns.heatmap(dm, cmap=\"GnBu\")\n",
    "plt.show()"
   ]
  },
  {
   "cell_type": "code",
   "execution_count": 3,
   "metadata": {},
   "outputs": [],
   "source": [
    "# 移动方向\n",
    "delta_p = np.array(\n",
    "    [[0, 0], [-1, 0], [1, 0], [0, -1], [0, 1]]\n",
    ")\n",
    "gamma = 0.99"
   ]
  },
  {
   "cell_type": "code",
   "execution_count": 4,
   "metadata": {},
   "outputs": [],
   "source": [
    "# 判断array是否在范围内\n",
    "def in_range(array, left_top, right_botom):\n",
    "    if left_top[0] <= array[0] < right_botom[0] and\\\n",
    "            left_top[1] <= array[1] < right_botom[1]:\n",
    "        return True\n",
    "    else:\n",
    "        return False\n",
    "\n",
    "\n",
    "class strategy_iteration:\n",
    "    def __init__(self, m, gamma) -> None:\n",
    "        self.strategy = np.zeros(m.shape, dtype=np.int32)\n",
    "        self.v = np.zeros(m.shape)\n",
    "        self.m = m\n",
    "        self.gamma = gamma\n",
    "        return\n",
    "\n",
    "    # 策略评估\n",
    "    def cal_V(self) -> None:\n",
    "        tmp = np.zeros(self.m.shape)\n",
    "        delta = 1e9\n",
    "        z = 1e-6  # 迭代阈值\n",
    "\n",
    "        while delta > z:\n",
    "            for i in range(tmp.shape[0]):\n",
    "                for j in range(tmp.shape[1]):\n",
    "                    nexts = np.array([i, j])+delta_p[self.strategy[i][j]]\n",
    "                    if not in_range(nexts, [0, 0], tmp.shape):\n",
    "                        tmp[i][j] = -1e8\n",
    "                    # 若出界，认为该状态价值为-1e8\n",
    "                    else:\n",
    "                        tmp[i][j] = self.m[nexts[0]][nexts[1]] +\\\n",
    "                            self.gamma*self.v[nexts[0]][nexts[1]]\n",
    "            delta = np.linalg.norm(x=tmp-self.v, ord=1)\n",
    "            self.v = tmp.copy()\n",
    "        return\n",
    "\n",
    "    # 策略选择\n",
    "    def update_strategy(self) -> None:\n",
    "        for i in range(self.strategy.shape[0]):\n",
    "            for j in range(self.strategy.shape[1]):\n",
    "                len = delta_p.shape[0]\n",
    "                values = np.zeros(len)\n",
    "                for k in range(len):\n",
    "                    nexts = np.array([i, j])+delta_p[k]\n",
    "                    if not in_range(nexts, [0, 0], self.strategy.shape):\n",
    "                        values[k] = -1e8\n",
    "                    else:\n",
    "                        values[k] = self.m[nexts[0]][nexts[1]] +\\\n",
    "                            self.gamma*self.v[nexts[0]][nexts[1]]\n",
    "\n",
    "                # 选择最大价值动作，这里判断当前策略是否为最优策略之一，防止震荡\n",
    "                if not self.strategy[i][j] in np.where(values == np.max(values))[0]:\n",
    "                    self.strategy[i][j] = np.where(\n",
    "                        values == np.max(values))[0][0]\n",
    "        return\n",
    "\n",
    "\n",
    "k = strategy_iteration(m, gamma)\n",
    "tmp = np.zeros(k.v.shape)\n",
    "delta = 1e9\n",
    "\n",
    "# 迭代直到收敛\n",
    "while delta > 0:\n",
    "    k.cal_V()\n",
    "    k.update_strategy()\n",
    "    delta = np.linalg.norm(tmp-k.v, ord=1)\n",
    "    tmp = k.v.copy()"
   ]
  },
  {
   "cell_type": "code",
   "execution_count": 5,
   "metadata": {},
   "outputs": [],
   "source": [
    "def show(arrays):\n",
    "    u = arrays[:, :, 1]\n",
    "    v = arrays[:, :, 0]\n",
    "    x = np.array([range(arrays.shape[1]) for i in range(arrays.shape[0])])+0.5\n",
    "    y = np.array([[i for j in range(arrays.shape[1])]\n",
    "                 for i in range(arrays.shape[0])])+0.5\n",
    "\n",
    "    plt.figure(figsize=(8, 2))\n",
    "\n",
    "    plt.xticks(np.linspace(0, arrays.shape[1]-1, arrays.shape[1]))\n",
    "    plt.yticks(np.linspace(0, arrays.shape[0]-1, arrays.shape[0]))\n",
    "    plt.grid(zorder=0)\n",
    "\n",
    "    # 绘制箭头图\n",
    "    plt.quiver(x, y, u, v, angles='xy', scale_units='xy', scale=2, zorder=1)\n",
    "    sns.heatmap(dm, cmap=\"GnBu\", zorder=0)\n",
    "    plt.xlim(0, arrays.shape[1])\n",
    "    plt.ylim(0, arrays.shape[0])\n",
    "\n",
    "    ax = plt.gca()\n",
    "    ax.invert_yaxis()\n",
    "    # 显示图形\n",
    "    plt.show()"
   ]
  },
  {
   "cell_type": "code",
   "execution_count": 6,
   "metadata": {},
   "outputs": [
    {
     "data": {
      "text/plain": [
       "array([[4, 4, 4, 2, 2, 2, 4, 4, 4, 2, 2, 2],\n",
       "       [4, 4, 4, 4, 4, 2, 2, 4, 4, 4, 2, 2],\n",
       "       [4, 4, 4, 4, 4, 4, 4, 4, 4, 4, 4, 2],\n",
       "       [4, 4, 4, 4, 1, 1, 1, 4, 4, 4, 4, 0]])"
      ]
     },
     "metadata": {},
     "output_type": "display_data"
    },
    {
     "data": {
      "image/png": "[encoded data removed]",
      "text/plain": [
       "<Figure size 800x200 with 2 Axes>"
      ]
     },
     "metadata": {},
     "output_type": "display_data"
    }
   ],
   "source": [
    "strategy = k.strategy\n",
    "# int -> array\n",
    "ans = np.zeros((strategy.shape[0], strategy.shape[1], 2))\n",
    "for i in range(strategy.shape[0]):\n",
    "    for j in range(strategy.shape[1]):\n",
    "        if mask[i][j]:\n",
    "            ans[i][j] = np.array([0, 0])\n",
    "        else:\n",
    "            ans[i][j] = delta_p[strategy[i][j]]\n",
    "\n",
    "display(strategy)\n",
    "show(ans)"
   ]
  },
  {
   "cell_type": "code",
   "execution_count": 7,
   "metadata": {},
   "outputs": [
    {
     "data": {
      "text/plain": [
       "array([[4, 4, 2, 2, 2, 2, 4, 4, 4, 2, 2, 2],\n",
       "       [4, 4, 4, 4, 2, 2, 2, 4, 4, 4, 2, 2],\n",
       "       [4, 4, 4, 4, 4, 4, 4, 4, 4, 4, 4, 2],\n",
       "       [4, 4, 4, 4, 1, 1, 1, 4, 4, 4, 4, 0]])"
      ]
     },
     "execution_count": 7,
     "metadata": {},
     "output_type": "execute_result"
    }
   ],
   "source": [
    "class value_iteration:\n",
    "    def __init__(self, m, gamma) -> None:\n",
    "        self.strategy = np.zeros(m.shape, dtype=np.int32)\n",
    "        self.v = np.zeros(m.shape)\n",
    "        self.m = m\n",
    "        self.gamma = gamma\n",
    "        return\n",
    "\n",
    "    def update(self):\n",
    "        tmp = np.zeros(self.m.shape)\n",
    "        delta = 1e9\n",
    "        z = 1e-6  # 迭代阈值\n",
    "\n",
    "        while delta > z:\n",
    "            for i in range(self.m.shape[0]):\n",
    "                for j in range(self.m.shape[1]):\n",
    "                    len = delta_p.shape[0]\n",
    "                    values = np.zeros(len)\n",
    "                    for k in range(len):\n",
    "                        nexts = np.array([i, j])+delta_p[k]\n",
    "                        if not in_range(nexts, [0, 0], self.m.shape):\n",
    "                            values[k] = -1e8\n",
    "                        else:\n",
    "                            values[k] = self.v[nexts[0]][nexts[1]]\n",
    "                    tmp[i][j] = self.m[i][j]+self.gamma*max(values)\n",
    "            delta = np.linalg.norm(tmp-self.v, ord=1)\n",
    "            self.v = tmp.copy()\n",
    "        return\n",
    "\n",
    "    # 策略贪心选择\n",
    "    def get_strategy(self):\n",
    "        for i in range(self.m.shape[0]):\n",
    "            for j in range(self.m.shape[1]):\n",
    "                len = delta_p.shape[0]\n",
    "                values = np.zeros(len)\n",
    "                for k in range(len):\n",
    "                    nexts = np.array([i, j])+delta_p[k]\n",
    "                    if not in_range(nexts, [0, 0], self.strategy.shape):\n",
    "                        values[k] = -1e8\n",
    "                    else:\n",
    "                        values[k] = self.v[nexts[0]][nexts[1]]\n",
    "                self.strategy[i][j] = np.where(values == max(values))[0][0]\n",
    "        return\n",
    "\n",
    "\n",
    "vk = value_iteration(m, gamma)\n",
    "vk.update()\n",
    "vk.get_strategy()\n",
    "vk.strategy"
   ]
  },
  {
   "cell_type": "code",
   "execution_count": 8,
   "metadata": {},
   "outputs": [
    {
     "data": {
      "text/plain": [
       "array([[4, 4, 2, 2, 2, 2, 4, 4, 4, 2, 2, 2],\n",
       "       [4, 4, 4, 4, 2, 2, 2, 4, 4, 4, 2, 2],\n",
       "       [4, 4, 4, 4, 4, 4, 4, 4, 4, 4, 4, 2],\n",
       "       [4, 4, 4, 4, 1, 1, 1, 4, 4, 4, 4, 0]])"
      ]
     },
     "metadata": {},
     "output_type": "display_data"
    },
    {
     "data": {
      "image/png": "[encoded data removed]",
      "text/plain": [
       "<Figure size 800x200 with 2 Axes>"
      ]
     },
     "metadata": {},
     "output_type": "display_data"
    }
   ],
   "source": [
    "strategy = vk.strategy\n",
    "ans = np.zeros((strategy.shape[0], strategy.shape[1], 2))\n",
    "for i in range(strategy.shape[0]):\n",
    "    for j in range(strategy.shape[1]):\n",
    "        if mask[i][j]:\n",
    "            ans[i][j] = np.array([0, 0])\n",
    "        else:\n",
    "            ans[i][j] = delta_p[strategy[i][j]]\n",
    "\n",
    "display(strategy)\n",
    "show(ans)"
   ]
  }
 ],
 "metadata": {
  "kernelspec": {
   "display_name": "private",
   "language": "python",
   "name": "python3"
  },
  "language_info": {
   "codemirror_mode": {
    "name": "ipython",
    "version": 3
   },
   "file_extension": ".py",
   "mimetype": "text/x-python",
   "name": "python",
   "nbconvert_exporter": "python",
   "pygments_lexer": "ipython3",
   "version": "3.10.13"
  }
 },
 "nbformat": 4,
 "nbformat_minor": 2
}
