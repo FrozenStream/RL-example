{
 "cells": [
  {
   "cell_type": "code",
   "execution_count": null,
   "metadata": {
    "dotnet_interactive": {
     "language": "csharp"
    },
    "polyglot_notebook": {
     "kernelName": "csharp"
    }
   },
   "outputs": [],
   "source": [
    "import numpy as np\n",
    "\n",
    "# 初始化数组\n",
    "value=np.array([-1,-2,-2,10,1,0])\n",
    "gamma=0.5\n",
    "p=np.array([\n",
    "    [0.9, 0.1, 0.0, 0.0, 0.0, 0.0],\n",
    "    [0.5, 0.0, 0.5, 0.0, 0.0, 0.0],\n",
    "    [0.0, 0.0, 0.0, 0.6, 0.0, 0.4],\n",
    "    [0.0, 0.0, 0.0, 0.0, 0.3, 0.7],\n",
    "    [0.0, 0.2, 0.3, 0.5, 0.0, 0.0],\n",
    "    [0.0, 0.0, 0.0, 0.0, 0.0, 0.0]\n",
    "])"
   ]
  },
  {
   "cell_type": "code",
   "execution_count": null,
   "metadata": {},
   "outputs": [],
   "source": [
    "# 计算给定路径的回报值\n",
    "# gamma->指定γ值;list->指定路径\n",
    "def calG(gamma,list) -> int:\n",
    "    ans=0\n",
    "    g=1\n",
    "    for i in list:\n",
    "        ans+=g*value[i-1]\n",
    "        g*=gamma\n",
    "    return ans\n",
    "\n",
    "print('the return is:',calG(gamma,[1,2,3,4,5,3,6]))"
   ]
  },
  {
   "cell_type": "markdown",
   "metadata": {},
   "source": [
    "$ \\mathcal{V} = (I - \\gamma \\mathcal{P})^{-1}\\mathcal{R} $"
   ]
  },
  {
   "cell_type": "code",
   "execution_count": null,
   "metadata": {},
   "outputs": [],
   "source": [
    "def calV(value,gamma,p):\n",
    "    return np.linalg.inv(np.eye(p.shape[0])-gamma*p).dot(value)\n",
    "\n",
    "calV(value,gamma,p)"
   ]
  },
  {
   "cell_type": "code",
   "execution_count": null,
   "metadata": {},
   "outputs": [],
   "source": [
    "# 找到下一个节点\n",
    "def nextp(begin,p):\n",
    "    k=np.random.rand()# 一个(0,1)随机数\n",
    "    for i in range(len(p[begin])):\n",
    "        if p[begin][i]==0:continue\n",
    "        if k>p[begin][i]:k-=p[begin][i]\n",
    "        else:return i\n",
    "\n",
    "# 对从给定节点开始计算10000次可能路径，返回平均回报\n",
    "def getAverage(begin,value,gamma,p):\n",
    "    sum=[]\n",
    "    for cnti in range(10000):# 计算单次路径的回报值\n",
    "        total=0\n",
    "        g=1\n",
    "        tmp=begin\n",
    "        while np.sum(p[tmp])>0:\n",
    "            total+=g*value[tmp]\n",
    "            g*=gamma\n",
    "            tmp=nextp(tmp,p)\n",
    "\n",
    "        sum.append(total)\n",
    "    return np.average(sum)\n",
    "\n",
    "\n",
    "%time print('The average is:', [getAverage(i,value,gamma,p) for i in range(len(value))], '\\n')\n"
   ]
  },
  {
   "cell_type": "code",
   "execution_count": null,
   "metadata": {},
   "outputs": [],
   "source": [
    "%time print('what we get:',calV(value,gamma,p), '\\n')"
   ]
  },
  {
   "cell_type": "code",
   "execution_count": null,
   "metadata": {},
   "outputs": [],
   "source": [
    "# 初始化1000个节点和相应邻接矩阵，节点0为终止节点\n",
    "thousand_value=np.random.randint(-1000,1000,(1,1000))[0].astype(np.float64)\n",
    "thousand_value[0]=0\n",
    "\n",
    "thousand_p=np.random.randint(1,1000,(1000,1000)).astype(np.float64)\n",
    "thousand_p[0]=np.zeros(1000)\n",
    "\n",
    "for i in range(1,1000):\n",
    "    thousand_p[i]/=np.sum(thousand_p[i])"
   ]
  },
  {
   "cell_type": "code",
   "execution_count": null,
   "metadata": {},
   "outputs": [],
   "source": [
    "%time print('what we get:\\n', calV(thousand_value,0.5,thousand_p), '\\n')\n"
   ]
  }
 ],
 "metadata": {
  "kernelspec": {
   "display_name": "private",
   "language": "python",
   "name": "python3"
  },
  "language_info": {
   "codemirror_mode": {
    "name": "ipython",
    "version": 3
   },
   "file_extension": ".py",
   "mimetype": "text/x-python",
   "name": "python",
   "nbconvert_exporter": "python",
   "pygments_lexer": "ipython3",
   "version": "3.10.13"
  },
  "polyglot_notebook": {
   "kernelInfo": {
    "defaultKernelName": "csharp",
    "items": [
     {
      "aliases": [],
      "name": "csharp"
     }
    ]
   }
  }
 },
 "nbformat": 4,
 "nbformat_minor": 2
}
