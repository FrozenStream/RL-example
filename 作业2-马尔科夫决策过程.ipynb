{
 "cells": [
  {
   "cell_type": "code",
   "execution_count": 1,
   "metadata": {},
   "outputs": [],
   "source": [
    "import numpy as np\n",
    "\n",
    "gamma=0.5\n",
    "actions=[\n",
    "    [(1,-1,0.5),(2,0,0.5)],\n",
    "    [[1,-1,0.5],[3,-2,0.5]],\n",
    "    [(4,-2,0.5),(5,0,0.5)],\n",
    "    [(((2,0.2),(3,0.4),(4,0.4)),1,0.5),(5,10,0.5)],\n",
    "    []\n",
    "]"
   ]
  },
  {
   "cell_type": "code",
   "execution_count": 2,
   "metadata": {},
   "outputs": [
    {
     "data": {
      "text/plain": [
       "array([-0.5, -1.5, -1. ,  5.5,  0. ])"
      ]
     },
     "metadata": {},
     "output_type": "display_data"
    },
    {
     "data": {
      "text/plain": [
       "array([[0.5, 0.5, 0. , 0. , 0. ],\n",
       "       [0.5, 0. , 0.5, 0. , 0. ],\n",
       "       [0. , 0. , 0. , 0.5, 0.5],\n",
       "       [0. , 0.1, 0.2, 0.2, 0.5],\n",
       "       [0. , 0. , 0. , 0. , 0. ]])"
      ]
     },
     "metadata": {},
     "output_type": "display_data"
    }
   ],
   "source": [
    "def MDP2MRP(actions):\n",
    "    value=np.zeros(len(actions))\n",
    "    p=np.zeros((len(actions),len(actions)))\n",
    "    # 初始化数组\n",
    "    for i in range(len(actions)):\n",
    "        for action in actions[i]:\n",
    "            value[i]+=action[2] * action[1]\n",
    "            # 每一步的决策收益x决策概率\n",
    "            if type(action[0])==int:\n",
    "                p[i][action[0]-1]+=action[2]\n",
    "                # 固定目标决策，P(s'|s,a)==1\n",
    "            else:\n",
    "                for sub in action[0]:\n",
    "                    p[i][sub[0]-1]+=action[2]*sub[1]\n",
    "                    # 非固定目标决策\n",
    "            \n",
    "    return (value,p)\n",
    "value,p=MDP2MRP(actions)\n",
    "display(value,p)"
   ]
  },
  {
   "cell_type": "code",
   "execution_count": 3,
   "metadata": {},
   "outputs": [
    {
     "data": {
      "text/plain": [
       "array([-1.22555411, -1.67666232,  0.51890482,  6.0756193 ,  0.        ])"
      ]
     },
     "execution_count": 3,
     "metadata": {},
     "output_type": "execute_result"
    }
   ],
   "source": [
    "def bellman(gamma,value,p):\n",
    "    return np.linalg.inv(np.eye(value.shape[0])-gamma*p).dot(value)\n",
    "bellman(gamma,value,p)"
   ]
  },
  {
   "cell_type": "code",
   "execution_count": 4,
   "metadata": {},
   "outputs": [
    {
     "data": {
      "text/plain": [
       "array([-0.6, -1.7, -1. ,  1.9,  0. ])"
      ]
     },
     "metadata": {},
     "output_type": "display_data"
    },
    {
     "data": {
      "text/plain": [
       "array([[0.6 , 0.4 , 0.  , 0.  , 0.  ],\n",
       "       [0.3 , 0.  , 0.7 , 0.  , 0.  ],\n",
       "       [0.  , 0.  , 0.  , 0.5 , 0.5 ],\n",
       "       [0.  , 0.18, 0.36, 0.36, 0.1 ],\n",
       "       [0.  , 0.  , 0.  , 0.  , 0.  ]])"
      ]
     },
     "metadata": {},
     "output_type": "display_data"
    },
    {
     "data": {
      "text/plain": [
       "array([-1.45585051, -2.09547678, -0.50599771,  1.97600915,  0.        ])"
      ]
     },
     "execution_count": 4,
     "metadata": {},
     "output_type": "execute_result"
    }
   ],
   "source": [
    "othor_actions=[\n",
    "    [(1,-1,0.6),(2,0,0.4)],\n",
    "    [(1,-1,0.3),(3,-2,0.7)],\n",
    "    [(4,-2,0.5),(5,0,0.5)],\n",
    "    [(((2,0.2),(3,0.4),(4,0.4)),1,0.9),(5,10,0.1)],\n",
    "    []\n",
    "]\n",
    "# 另一个动作矩阵\n",
    "value,p=MDP2MRP(othor_actions)\n",
    "display(value,p)\n",
    "bellman(gamma,value,p)"
   ]
  },
  {
   "cell_type": "code",
   "execution_count": 5,
   "metadata": {},
   "outputs": [
    {
     "data": {
      "text/plain": [
       "-2.0"
      ]
     },
     "execution_count": 5,
     "metadata": {},
     "output_type": "execute_result"
    }
   ],
   "source": [
    "def move(action,gamma,begin,max_step=1000):\n",
    "    sum=0\n",
    "    gama=1\n",
    "    begin-=1\n",
    "    while len(action[begin])>0:\n",
    "        k=np.random.choice(range(len(action[begin])), 1, [act[2] for act in action[begin]])[0]\n",
    "        # 随机出下一可能动作\n",
    "        present=action[begin][k]\n",
    "        sum+=gama*present[1]\n",
    "        if type(present[0])==int:\n",
    "            begin=present[0]-1\n",
    "        else: \n",
    "            k=np.random.choice(range(len(present[0])), 1, [des[1] for des in present[0]])[0]\n",
    "            # 若是非固定目标动作，随机出目标\n",
    "            begin=present[0][k][0]-1\n",
    "        gama*=gamma\n",
    "    return sum\n",
    "\n",
    "move(actions,gamma,2)"
   ]
  },
  {
   "cell_type": "code",
   "execution_count": 6,
   "metadata": {},
   "outputs": [
    {
     "data": {
      "text/plain": [
       "[-1.228485365548593,\n",
       " -1.6444799898082347,\n",
       " 0.44423182974080555,\n",
       " 6.074707844991237,\n",
       " 0.0]"
      ]
     },
     "execution_count": 6,
     "metadata": {},
     "output_type": "execute_result"
    }
   ],
   "source": [
    "def motkar(action,gamma):\n",
    "    mot=[]\n",
    "    for i in range(1,len(action)+1):\n",
    "        sum=0\n",
    "        total=1000\n",
    "        for cnt in range(total):\n",
    "            sum+=move(action,gamma,i)\n",
    "        sum/=total\n",
    "        # 求平均数\n",
    "        mot.append(sum)\n",
    "    return mot\n",
    "\n",
    "motkar(actions,gamma)"
   ]
  },
  {
   "cell_type": "code",
   "execution_count": 7,
   "metadata": {},
   "outputs": [
    {
     "data": {
      "text/plain": [
       "[-1.2384790590372323,\n",
       " -1.6861149441393646,\n",
       " 0.4420467117729131,\n",
       " 5.891063663482666,\n",
       " 0.0]"
      ]
     },
     "execution_count": 7,
     "metadata": {},
     "output_type": "execute_result"
    }
   ],
   "source": [
    "motkar(othor_actions,gamma)"
   ]
  }
 ],
 "metadata": {
  "kernelspec": {
   "display_name": "private",
   "language": "python",
   "name": "python3"
  },
  "language_info": {
   "codemirror_mode": {
    "name": "ipython",
    "version": 3
   },
   "file_extension": ".py",
   "mimetype": "text/x-python",
   "name": "python",
   "nbconvert_exporter": "python",
   "pygments_lexer": "ipython3",
   "version": "3.10.13"
  },
  "polyglot_notebook": {
   "kernelInfo": {
    "defaultKernelName": "csharp",
    "items": [
     {
      "aliases": [],
      "name": "csharp"
     }
    ]
   }
  }
 },
 "nbformat": 4,
 "nbformat_minor": 2
}
